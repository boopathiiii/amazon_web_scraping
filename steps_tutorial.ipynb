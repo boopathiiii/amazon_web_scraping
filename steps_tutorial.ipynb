{
  "nbformat": 4,
  "nbformat_minor": 0,
  "metadata": {
    "colab": {
      "provenance": [],
      "authorship_tag": "ABX9TyMbJMHzxSok2rrGOpZQenPS"
    },
    "kernelspec": {
      "name": "python3",
      "display_name": "Python 3"
    },
    "language_info": {
      "name": "python"
    }
  },
  "cells": [
    {
      "cell_type": "code",
      "execution_count": 1,
      "metadata": {
        "id": "NpDJ2F3Pr-C3"
      },
      "outputs": [],
      "source": [
        "import pandas as pd\n",
        "import numpy as np\n",
        "from bs4 import BeautifulSoup\n",
        "import requests"
      ]
    },
    {
      "cell_type": "code",
      "source": [
        "URL = \"https://www.amazon.com/s?k=mobile+phones&crid=31L5U1WU7R4BZ&sprefix=mobile+phone%2Caps%2C643&ref=nb_sb_noss_1\""
      ],
      "metadata": {
        "id": "O5oYqP17sz-5"
      },
      "execution_count": 2,
      "outputs": []
    },
    {
      "cell_type": "code",
      "source": [
        "# Headers for request\n",
        "HEADERS = ({'User-Agent':'Mozilla/5.0 (Windows NT 10.0; Win64; x64) AppleWebKit/537.36 (KHTML, like Gecko) Chrome/137.0.0.0 Safari/537.36 Edg/137.0.0', 'Accept-Language': 'en-US, en;q=0.5'})"
      ],
      "metadata": {
        "id": "A2GN7qXntqh0"
      },
      "execution_count": 3,
      "outputs": []
    },
    {
      "cell_type": "code",
      "source": [
        "# HTTP Request\n",
        "webpage = requests.get(URL, headers=HEADERS)"
      ],
      "metadata": {
        "id": "taNA9T9luY8g"
      },
      "execution_count": 4,
      "outputs": []
    },
    {
      "cell_type": "code",
      "source": [
        "type(webpage.content)"
      ],
      "metadata": {
        "colab": {
          "base_uri": "https://localhost:8080/"
        },
        "id": "TRxb9hWQujof",
        "outputId": "dc5283b8-9eb3-4346-9899-d368c72af3f4"
      },
      "execution_count": 7,
      "outputs": [
        {
          "output_type": "execute_result",
          "data": {
            "text/plain": [
              "bytes"
            ]
          },
          "metadata": {},
          "execution_count": 7
        }
      ]
    },
    {
      "cell_type": "code",
      "source": [
        "# Soup Object containing all data\n",
        "soup = BeautifulSoup(webpage.content, \"html.parser\")"
      ],
      "metadata": {
        "id": "xk7qiXZDuld2"
      },
      "execution_count": 8,
      "outputs": []
    },
    {
      "cell_type": "code",
      "source": [
        "# Fetch links as List of Tag Objects\n",
        "links = soup.find_all(\"a\", attrs={'class':'a-link-normal s-line-clamp-2 s-link-style a-text-normal'})"
      ],
      "metadata": {
        "id": "dVkk1ZWOu9k9"
      },
      "execution_count": 10,
      "outputs": []
    },
    {
      "cell_type": "code",
      "source": [
        "link = links[0].get('href')"
      ],
      "metadata": {
        "id": "SdKW93zmu-8J"
      },
      "execution_count": 14,
      "outputs": []
    },
    {
      "cell_type": "code",
      "source": [
        "product_list = \"https://amazon.com\" + link"
      ],
      "metadata": {
        "id": "tjCIsmGrwfLh"
      },
      "execution_count": 15,
      "outputs": []
    },
    {
      "cell_type": "code",
      "source": [
        "product_list"
      ],
      "metadata": {
        "colab": {
          "base_uri": "https://localhost:8080/",
          "height": 72
        },
        "id": "IcMaJox7xGKL",
        "outputId": "094f8b0d-9ffc-42d8-a6f5-1c240a6cff8a"
      },
      "execution_count": 16,
      "outputs": [
        {
          "output_type": "execute_result",
          "data": {
            "text/plain": [
              "'https://amazon.com/SAMSUNG-Unlocked-Smartphone-Charging-Expandable/dp/B0DLHNWHRF/ref=sr_1_1?crid=31L5U1WU7R4BZ&dib=eyJ2IjoiMSJ9.l3KOeB1F_crIsGAENwl-TDpTelEFXrxQg0Bm4m2qxgq0GjN1W5WGQA-ghrOg-KRt01eqwy7VRx6iMvZcaPO7PTRfbmB_eS7xekAeWfcduJ-R6q6NuEwcqtznQgaTaCH81vHzh5uAQHqF8Z7vKFcxriQJGj3jzMmcWY2XPfFw8wkJ98ltofSSXLjeiul4476eyxStSs2RkI6MkH7Awtufw62GaI-2aRVyTtgacEApOPY.f6_z1QSrRzG5jCX34SiEDOiKji659a-tp6olxuhybhs&dib_tag=se&keywords=mobile+phones&qid=1751218013&sprefix=mobile+phone%2Caps%2C643&sr=8-1'"
            ],
            "application/vnd.google.colaboratory.intrinsic+json": {
              "type": "string"
            }
          },
          "metadata": {},
          "execution_count": 16
        }
      ]
    },
    {
      "cell_type": "code",
      "source": [
        "first_prod = requests.get(product_list, headers=HEADERS)"
      ],
      "metadata": {
        "id": "2sRhuD7oxIQn"
      },
      "execution_count": 17,
      "outputs": []
    },
    {
      "cell_type": "code",
      "source": [
        "first_prod"
      ],
      "metadata": {
        "colab": {
          "base_uri": "https://localhost:8080/"
        },
        "id": "i2sATzyNxZbr",
        "outputId": "c072ae56-2400-419d-d684-678cbc518b86"
      },
      "execution_count": 18,
      "outputs": [
        {
          "output_type": "execute_result",
          "data": {
            "text/plain": [
              "<Response [200]>"
            ]
          },
          "metadata": {},
          "execution_count": 18
        }
      ]
    },
    {
      "cell_type": "code",
      "source": [
        "first_prod_soup = BeautifulSoup(first_prod.content, \"html.parser\")"
      ],
      "metadata": {
        "id": "uHYofaGCxawK"
      },
      "execution_count": 19,
      "outputs": []
    },
    {
      "cell_type": "code",
      "source": [
        "first_prod_soup.find(\"span\", attrs={\"id\":\"productTitle\"}).text.strip()"
      ],
      "metadata": {
        "colab": {
          "base_uri": "https://localhost:8080/",
          "height": 54
        },
        "id": "QYsNL3dqyDr9",
        "outputId": "6822dd09-794d-4449-9e35-2e075fcb15bb"
      },
      "execution_count": 22,
      "outputs": [
        {
          "output_type": "execute_result",
          "data": {
            "text/plain": [
              "'SAMSUNG Galaxy A16 5G A Series Cell Phone, Unlocked Android Smartphone, Large AMOLED Display, Durable Design, Super Fast Charging, Expandable Storage, US Version, 2025, Blue Black'"
            ],
            "application/vnd.google.colaboratory.intrinsic+json": {
              "type": "string"
            }
          },
          "metadata": {},
          "execution_count": 22
        }
      ]
    },
    {
      "cell_type": "code",
      "source": [
        "first_prod_soup.find(\"span\", attrs={\"class\":'a-price-whole'}).text.strip()"
      ],
      "metadata": {
        "colab": {
          "base_uri": "https://localhost:8080/",
          "height": 36
        },
        "id": "2yfG8iNxxoQ2",
        "outputId": "a783f85f-cf28-4c9c-f733-be4b837a0846"
      },
      "execution_count": 35,
      "outputs": [
        {
          "output_type": "execute_result",
          "data": {
            "text/plain": [
              "'199.'"
            ],
            "application/vnd.google.colaboratory.intrinsic+json": {
              "type": "string"
            }
          },
          "metadata": {},
          "execution_count": 35
        }
      ]
    },
    {
      "cell_type": "code",
      "source": [
        "first_prod_soup.find(\"span\", attrs={\"class\":\"a-icon-alt\"}).text"
      ],
      "metadata": {
        "colab": {
          "base_uri": "https://localhost:8080/",
          "height": 36
        },
        "id": "sRHC4gl80ttr",
        "outputId": "21c50c49-ed37-4deb-e6ea-b2e349ce453b"
      },
      "execution_count": 36,
      "outputs": [
        {
          "output_type": "execute_result",
          "data": {
            "text/plain": [
              "'4.2 out of 5 stars'"
            ],
            "application/vnd.google.colaboratory.intrinsic+json": {
              "type": "string"
            }
          },
          "metadata": {},
          "execution_count": 36
        }
      ]
    }
  ]
}